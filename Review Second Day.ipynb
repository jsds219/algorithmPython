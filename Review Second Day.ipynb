{
 "cells": [
  {
   "cell_type": "markdown",
   "metadata": {},
   "source": [
    "# 문자열 formatting"
   ]
  },
  {
   "cell_type": "code",
   "execution_count": 2,
   "metadata": {},
   "outputs": [
    {
     "name": "stdout",
     "output_type": "stream",
     "text": [
      "\n",
      "--- Default Order ---\n",
      "John, Bill and Sean\n",
      "\n",
      "--- Positional Order ---\n",
      "Bill, John and Sean\n",
      "\n",
      "--- Keyword Order ---\n",
      "Sean, Bill and John\n"
     ]
    }
   ],
   "source": [
    "# default(implicit) order\n",
    "default_order = \"{}, {} and {}\".format('John','Bill','Sean')\n",
    "print('\\n--- Default Order ---')\n",
    "print(default_order)\n",
    "\n",
    "# order using positional argument\n",
    "positional_order = \"{1}, {0} and {2}\".format('John','Bill','Sean')\n",
    "print('\\n--- Positional Order ---')\n",
    "print(positional_order)\n",
    "\n",
    "# order using keyword argument\n",
    "keyword_order = \"{s}, {b} and {j}\".format(j='John',b='Bill',s='Sean')\n",
    "print('\\n--- Keyword Order ---')\n",
    "print(keyword_order)"
   ]
  },
  {
   "cell_type": "markdown",
   "metadata": {},
   "source": [
    "# Python 2.7 style 의 다음 문장을 format 문을 사용하는 것으로 변경"
   ]
  },
  {
   "cell_type": "code",
   "execution_count": 7,
   "metadata": {},
   "outputs": [
    {
     "name": "stdout",
     "output_type": "stream",
     "text": [
      "The banana costs 24 cents\n"
     ]
    }
   ],
   "source": [
    "price = 24\n",
    "item = \"banana\"\n",
    "print(\"The %s costs %d cents\"%(item,price))"
   ]
  },
  {
   "cell_type": "code",
   "execution_count": 12,
   "metadata": {},
   "outputs": [
    {
     "name": "stdout",
     "output_type": "stream",
     "text": [
      "The banana costs 24 cents\n"
     ]
    }
   ],
   "source": [
    "print(\"The {} costs {} cents\".format(item, price))"
   ]
  },
  {
   "cell_type": "code",
   "execution_count": 8,
   "metadata": {},
   "outputs": [
    {
     "name": "stdout",
     "output_type": "stream",
     "text": [
      "The     banana costs 24.00 cents\n"
     ]
    }
   ],
   "source": [
    "print(\"The %+10s costs %5.2f cents\"%(item,price))"
   ]
  },
  {
   "cell_type": "code",
   "execution_count": 14,
   "metadata": {},
   "outputs": [
    {
     "name": "stdout",
     "output_type": "stream",
     "text": [
      "The     banana costs 24.00 cents\n"
     ]
    }
   ],
   "source": [
    "print(\"The {:>10} costs {:5.2f} cents\".format(item, price))"
   ]
  },
  {
   "cell_type": "code",
   "execution_count": 9,
   "metadata": {},
   "outputs": [
    {
     "name": "stdout",
     "output_type": "stream",
     "text": [
      "The     banana costs      24.00 cents\n"
     ]
    }
   ],
   "source": [
    "print(\"The %+10s costs %10.2f cents\"%(item,price))"
   ]
  },
  {
   "cell_type": "code",
   "execution_count": 16,
   "metadata": {},
   "outputs": [
    {
     "name": "stdout",
     "output_type": "stream",
     "text": [
      "The     banana costs      24.00 cents\n"
     ]
    }
   ],
   "source": [
    "print(\"The {:>10} costs {:10.2f} cents\".format(item, price))"
   ]
  },
  {
   "cell_type": "code",
   "execution_count": 25,
   "metadata": {},
   "outputs": [
    {
     "name": "stdout",
     "output_type": "stream",
     "text": [
      "The banana costs    24.0 cents\n"
     ]
    }
   ],
   "source": [
    "itemdict = {\"item\":\"banana\",\"cost\":24}\n",
    "print(\"The %(item)s costs %(cost)7.1f cents\"%itemdict)"
   ]
  },
  {
   "cell_type": "code",
   "execution_count": 29,
   "metadata": {},
   "outputs": [
    {
     "name": "stdout",
     "output_type": "stream",
     "text": [
      "The banana costs    24.0 cents\n"
     ]
    }
   ],
   "source": [
    "print(\"The {} costs {:7.1f} cents\".format(itemdict[\"item\"], itemdict[\"cost\"]))"
   ]
  },
  {
   "cell_type": "markdown",
   "metadata": {},
   "source": [
    "# Frequency Counter\n",
    "\n",
    "- 첫번째 list 와 두번째 list 의 length 는 동일\n",
    "- 두번째 list 의 각 element 는 첫번째 list element 의 제곱이어야 한다.\n",
    "- 서로 match 되는 element 가 위 조건과 같은지 비교하여 참이면 \"Two lists are matched\", 거짓이면 \"Two lists are unmatched\" 출력\n",
    "\n",
    "frequency_check([1,2,3,2,5,6], [1,4,9,4,25,36]) --> lists are matched"
   ]
  },
  {
   "cell_type": "code",
   "execution_count": null,
   "metadata": {},
   "outputs": [],
   "source": [
    "def frequency_check(lst1, lst2):\n",
    "    for i in range(len(lst1)):\n",
    "        if lst1[i] **2 == lst2[i]:\n",
    "            match = True\n",
    "        else:\n",
    "            match = False\n",
    "    if match == False:\n",
    "        print(\"lists are not matched\")\n",
    "    else:\n",
    "        print(\"lists are matched\")"
   ]
  },
  {
   "cell_type": "code",
   "execution_count": null,
   "metadata": {},
   "outputs": [],
   "source": [
    "frequency_check([1,2,3,2,5,6], [1,4,9,4,25,36])"
   ]
  },
  {
   "cell_type": "markdown",
   "metadata": {},
   "source": [
    "# Frequncy Counter pattern\n",
    "\n",
    "- 2 개 string 을 입력 받아 두글자 조합의 frequency 가 같은지 비교한다.\n",
    "      예, (182, 281): true, \n",
    "           (34, 14): false, \n",
    "           (3589578, 5879385): true,  \n",
    "           (22, 222): false\n",
    "      \n",
    "- (해답) 조합의 frequency 가 같으려면 두 string 의 길이가 같고 글자들의 frequency 가 같아야 한다.\n",
    "\n",
    "sameFrequency('1233', '3133') --> not mached  \n",
    "sameFrequency('1233', '2133') --> mached"
   ]
  },
  {
   "cell_type": "code",
   "execution_count": null,
   "metadata": {},
   "outputs": [],
   "source": [
    "def sameFrequency(lst1, lst2):\n",
    "    lst1_dict = {}\n",
    "    lst2_dict = {}\n",
    "    \n",
    "    if len(lst1) != len(lst2):\n",
    "        print(\"length not SAME\")\n",
    "        return False\n",
    "    \n",
    "    for ele in lst1:\n",
    "        if ele in lst1_dict:\n",
    "            lst1_dict[ele] += 1\n",
    "        else:\n",
    "            lst1_dict[ele] = 1\n",
    "    print(lst1_dict)\n",
    "    \n",
    "    for ele in lst2:\n",
    "        if ele in lst2_dict:\n",
    "            lst2_dict[ele] += 1\n",
    "        else:\n",
    "            lst2_dict[ele] = 1\n",
    "    print(lst2_dict)\n",
    "    \n",
    "    for k, v in lst1_dict.items():\n",
    "        if k in lst2_dict and lst2_dict[k] == v:\n",
    "            match = True\n",
    "        else:\n",
    "            match = False\n",
    "            \n",
    "    return match\n",
    "    \n",
    "if sameFrequency('1233', '3133'):\n",
    "    print(\"mathced\")\n",
    "else:\n",
    "    print(\"not matched\")"
   ]
  },
  {
   "cell_type": "markdown",
   "metadata": {},
   "source": [
    " # 상점의 모든 과일의 재고와 전체 가격 계산\n",
    " \n",
    "- 각 과일의 개당 가격은 다음과 같다.\n",
    "    - 바나나 : 4000 원\n",
    "    - 사과: 2000 원\n",
    "    - 오렌지: 1500 원\n",
    "    - 배 : 3000 원\n",
    "    \n",
    "    \n",
    "- 각 과일의 재고는 다음과 같다.\n",
    "    - 바나나 : 6 개\n",
    "    - 사과 : 0 개\n",
    "    - 오렌지: 32 개\n",
    "    - 배 : 15 개\n",
    "    \n",
    "    \n",
    "- dictionary 를 이용하여 재고 과일의 총 금액을 계산하라. (가격 dictionary 와 재고 dictionary 를 별도로 작성)\n",
    "\n",
    "- 예상 output:\n",
    "\n",
    "price: 4000  \n",
    "stock: 6  \n",
    "price: 2000  \n",
    "stock: 0  \n",
    "price: 1500  \n",
    "stock: 32  \n",
    "price: 3000  \n",
    "stock: 15  \n",
    "The total money is 117000"
   ]
  },
  {
   "cell_type": "code",
   "execution_count": 1,
   "metadata": {},
   "outputs": [
    {
     "name": "stdout",
     "output_type": "stream",
     "text": [
      "price: 4000\n",
      "stock: 6\n",
      "price: 2000\n",
      "stock: 0\n",
      "price: 1500\n",
      "stock: 32\n",
      "price: 3000\n",
      "stock: 15\n",
      "The total money is 117000\n"
     ]
    }
   ],
   "source": [
    "# 가격 dictionary 생성\n",
    "prices={}\n",
    "\n",
    "prices[\"banana\"]=4000\n",
    "prices[\"apple\"]= 2000\n",
    "prices[\"orange\"]= 1500\n",
    "prices[\"pear\"]= 3000\n",
    "\n",
    "# 재고 dictionary 생성\n",
    "stock={}\n",
    "\n",
    "stock[\"banana\"]= 6\n",
    "stock[\"apple\"]= 0\n",
    "stock[\"orange\"] =32\n",
    "stock[\"pear\"]= 15\n",
    "\n",
    "for food in prices:\n",
    "    print(\"price: {}\".format(prices[food]))\n",
    "    print(\"stock: {}\".format(stock[food]))\n",
    "\n",
    "# 재고과일의 총금액 계산\n",
    "\n",
    "total=0\n",
    "\n",
    "for price in prices:\n",
    "    balance = prices[price] * stock[price]\n",
    "    total=total +balance\n",
    "\n",
    "print (\"The total money is\", total)"
   ]
  },
  {
   "cell_type": "markdown",
   "metadata": {},
   "source": [
    "# 주사위 던지기 놀이\n",
    "두개의 주사위를 던져서 두 주사위의 합이 같은 것끼리 출력하라.  \n",
    "\n",
    "예상 output :\n",
    "\n",
    " 2: [(1, 1)],  \n",
    " 3: [(1, 2), (2, 1)],  \n",
    " 4: [(1, 3), (2, 2), (3, 1)],  \n",
    " 5: [(1, 4), (2, 3), (3, 2), (4, 1)],  \n",
    " 6: [(1, 5), (2, 4), (3, 3), (4, 2), (5, 1)],  \n",
    " 7: [(1, 6), (2, 5), (3, 4), (4, 3), (5, 2), (6, 1)],  \n",
    " 8: [(2, 6), (3, 5), (4, 4), (5, 3), (6, 2)],  \n",
    " 9: [(3, 6), (4, 5), (5, 4), (6, 3)],  \n",
    " 10: [(4, 6), (5, 5), (6, 4)],  \n",
    " 11: [(5, 6), (6, 5)],  \n",
    " 12: [(6, 6)]  \n",
    " \n",
    " - pseudo-code\n",
    " \n",
    "```\n",
    "d= {}  \n",
    "\n",
    "Loop with 주사위1 from 1 to 6  \n",
    "    Loop with 주사위2 from 1 to 6  \n",
    "        newTuple ← ( 주사위1, 주사위2 )   \n",
    "        added = 주사위1 + 주사위2  \n",
    "        added 가 d 에 없으면 새로운 list 생성  \n",
    "        added 가 d 에 있으면 기존 list 에 append  \n",
    "        \n",
    "dictionary 의 모든 key, value 출력\n",
    "```"
   ]
  },
  {
   "cell_type": "code",
   "execution_count": null,
   "metadata": {},
   "outputs": [],
   "source": [
    "d = {}\n",
    "for d1 in range(1, 7):\n",
    "    for d2 in range(1, 7):\n",
    "        newTuple = (d1, d2)\n",
    "        tot = sum(newTuple)\n",
    "        if tot in d:\n",
    "            d[tot].append(newTuple)\n",
    "        else:\n",
    "            d[tot] = [newTuple]\n",
    "\n",
    "for k, v in d.items():\n",
    "    print(k, v)"
   ]
  }
 ],
 "metadata": {
  "kernelspec": {
   "display_name": "Python 3",
   "language": "python",
   "name": "python3"
  },
  "language_info": {
   "codemirror_mode": {
    "name": "ipython",
    "version": 3
   },
   "file_extension": ".py",
   "mimetype": "text/x-python",
   "name": "python",
   "nbconvert_exporter": "python",
   "pygments_lexer": "ipython3",
   "version": "3.7.2"
  }
 },
 "nbformat": 4,
 "nbformat_minor": 2
}
