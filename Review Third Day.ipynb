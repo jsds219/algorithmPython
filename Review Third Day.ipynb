{
 "cells": [
  {
   "cell_type": "markdown",
   "metadata": {},
   "source": [
    "# Python 으로 구현한 stack 과 queue\n",
    "\n",
    "- Python 의 class 를 이용하여 stack 과 queue 구현  \n",
    "- Stack class 의 method 는 pop (꺼내기), push (추가), size (stack 의 길이) 세가지로 한다.  \n",
    "- Queue class 의 method 는 enqueue(queue 에 추가), dequeue (queue 에 꺼내기), size (queue 의 길이) 세가지로 한다."
   ]
  },
  {
   "cell_type": "code",
   "execution_count": 4,
   "metadata": {},
   "outputs": [],
   "source": [
    "class Stack:\n",
    "\n",
    "    def __init__(self):\n",
    "        self.stack = []\n",
    "\n",
    "    def pop(self):\n",
    "        if len(self.stack) < 1:\n",
    "            return None\n",
    "        return self.stack.pop()\n",
    "\n",
    "    def push(self, item):\n",
    "        self.stack.append(item)\n",
    "\n",
    "    def size(self):\n",
    "        return len(self.stack)\n",
    "\n",
    "# And a queue that only has enqueue and dequeue operations\n",
    "class Queue:\n",
    "\n",
    "    def __init__(self):\n",
    "        self.queue = []\n",
    "\n",
    "    def enqueue(self, item):\n",
    "        self.queue.append(item)\n",
    "\n",
    "    def dequeue(self):\n",
    "        if len(self.queue) < 1:\n",
    "            return None\n",
    "        return self.queue.pop(0)\n",
    "\n",
    "    def size(self):\n",
    "        return len(self.queue) "
   ]
  },
  {
   "cell_type": "code",
   "execution_count": 5,
   "metadata": {},
   "outputs": [
    {
     "data": {
      "text/plain": [
       "'c'"
      ]
     },
     "execution_count": 5,
     "metadata": {},
     "output_type": "execute_result"
    }
   ],
   "source": [
    "stack = Stack()\n",
    "stack.push('a')\n",
    "stack.push('b')\n",
    "stack.push('c')\n",
    "stack.pop()"
   ]
  },
  {
   "cell_type": "code",
   "execution_count": 6,
   "metadata": {},
   "outputs": [
    {
     "data": {
      "text/plain": [
       "'a'"
      ]
     },
     "execution_count": 6,
     "metadata": {},
     "output_type": "execute_result"
    }
   ],
   "source": [
    "q = Queue()\n",
    "q.enqueue('a')\n",
    "q.enqueue('b')\n",
    "q.enqueue('c')\n",
    "q.dequeue()"
   ]
  },
  {
   "cell_type": "markdown",
   "metadata": {},
   "source": [
    "# Pet 공원\n",
    "\n",
    "- 공원에서 놀고있는 강아지와 고양이들을 object 로 구현. 강아지와 고양이들은 이름과 나이 두개의 attribute 로 구성  \n",
    "\n",
    "\n",
    "- 고양이들의 행동 (behavior) 은 뛰기 (running), 둘러보기(watching), 기지개 켜기(stretching) 으로 구성된다.  \n",
    "\n",
    "\n",
    "- 강아지들의 행동 (behavior) 은 뛰기 (running), 둘러보기(watching), 짖기(barking) 으로 구성된다.\n",
    "\n",
    "\n",
    "- running method 의 출력 : \"{} 이 뛰고 있다\"  --> 부모 class 의 method\n",
    "\n",
    "\n",
    "- watching methd 의 출력 : \"강아지가 두리번거리며 보고 있다\", \"고양이가 조용히 보고 있다\" --> oarent class method override  \n",
    "\n",
    "\n",
    "- streching method 의 출력 : \"고양이가 기지개 켜고 있다\"  --> 고양이 class 의 method  \n",
    "\n",
    "\n",
    "- barking method 의 출력 : \"강아지가 짖고 있다\"  --> 강아지 class 의 method\n"
   ]
  },
  {
   "cell_type": "code",
   "execution_count": 7,
   "metadata": {},
   "outputs": [],
   "source": [
    "class Pet:\n",
    "        \n",
    "    def __init__(self, name, age, kind):\n",
    "        self.name = name\n",
    "        self.age = age\n",
    "        self.kind = kind\n",
    "        \n",
    "    def running(self):\n",
    "        print(\"{}이 뛰고 있다\".format(self.kind))\n",
    "    \n",
    "    def watching(self):\n",
    "        pass\n",
    "    \n",
    "class Dog(Pet):\n",
    "    def watching(self):\n",
    "        print(\"강아지가 두리번거리며 보고있다\".format(self.kind))\n",
    "              \n",
    "    def barking(self):\n",
    "        print(\"강아지가 짖고 있다\")\n",
    "        \n",
    "class Cat(Pet):\n",
    "    def watching(self):\n",
    "        print(\"고양이가 조용히 보고있다\".format(self.kind))\n",
    "        \n",
    "    def stretching(self):\n",
    "        print(\"고양이가 기지개 키고 있다\")"
   ]
  },
  {
   "cell_type": "code",
   "execution_count": 8,
   "metadata": {},
   "outputs": [
    {
     "name": "stdout",
     "output_type": "stream",
     "text": [
      "dog이 뛰고 있다\n",
      "강아지가 두리번거리며 보고있다\n",
      "강아지가 짖고 있다\n"
     ]
    }
   ],
   "source": [
    "dog = Dog('Doggy', 5, 'dog')\n",
    "dog.running()\n",
    "dog.watching()\n",
    "dog.barking()"
   ]
  },
  {
   "cell_type": "code",
   "execution_count": 9,
   "metadata": {},
   "outputs": [
    {
     "name": "stdout",
     "output_type": "stream",
     "text": [
      "cat이 뛰고 있다\n",
      "고양이가 조용히 보고있다\n",
      "고양이가 기지개 키고 있다\n"
     ]
    }
   ],
   "source": [
    "cat = Cat('Mio', 1, 'cat')\n",
    "cat.running()\n",
    "cat.watching()\n",
    "cat.stretching()"
   ]
  },
  {
   "cell_type": "markdown",
   "metadata": {},
   "source": [
    "# 비밀번호 알아맞추기\n",
    "\n",
    "- 비밀번호 입력 허용 횟수 (ex, 10 회) 초과하면 \"비밀번호 입력횟수 초과 입니다\" 메시지 출력하고 종료 \n",
    "\n",
    "- while 문을 이용하여 사전에 정해 놓은 비밀번호와 입력 받은 비밀번호가 같은지 비교 "
   ]
  },
  {
   "cell_type": "code",
   "execution_count": 13,
   "metadata": {},
   "outputs": [
    {
     "name": "stdout",
     "output_type": "stream",
     "text": [
      "Guess a word: caribou\n",
      "caribou\n",
      "축하합니다. 성공입니다.\n"
     ]
    }
   ],
   "source": [
    "GUESSES_ALLOWED = 3\n",
    "PASSWORD = \"caribou\"\n",
    "\n",
    "input_left = GUESSES_ALLOWED\n",
    "input_password = None\n",
    "\n",
    "while input_password != PASSWORD and input_left:\n",
    "    input_password = input(\"Guess a word: \")\n",
    "\n",
    "    if input_password == PASSWORD:\n",
    "        print(input_password)\n",
    "        print(\"축하합니다. 성공입니다.\")\n",
    "    else:\n",
    "        print(input_password)\n",
    "        input_left -= 1\n",
    "        print(\"비밀번호 오류! {} 회 남았습니다.\".format(input_left))"
   ]
  },
  {
   "cell_type": "markdown",
   "metadata": {},
   "source": [
    "# try / except 응용\n",
    "\n",
    "- input 을 이용하여 숫자를 입력 받음\n",
    "\n",
    "- 숫자가 입력되면 입력받은 숫자 출력\n",
    "\n",
    "- 알파벳이 입력되면 error message 출력\n",
    "\n",
    "- except ValueError 이용"
   ]
  },
  {
   "cell_type": "code",
   "execution_count": 18,
   "metadata": {},
   "outputs": [
    {
     "name": "stdout",
     "output_type": "stream",
     "text": [
      "숫자를 입력하시오: 1\n",
      "1\n"
     ]
    }
   ],
   "source": [
    "try:\n",
    "    number = int(input(\"숫자를 입력하시오: \"))\n",
    "    print(number)\n",
    "except ValueError:\n",
    "    print(\"숫자가 아닙니다\")"
   ]
  },
  {
   "cell_type": "markdown",
   "metadata": {},
   "source": [
    "# Singly Linked List\n",
    "\n",
    "<img src=\"Linkedlist.png\" width=\"600\">\n",
    "\n",
    "- next pointer 로만 node 간에 연결된 자료구조\n",
    "\n",
    "- random access 는 안되고 순차적 검색만 가능  \n",
    "\n",
    "- 두개의 class 로 구성 \n",
    "\n",
    "    1) node class --> value, next_node 로 구성\n",
    "    \n",
    "    2) singlyLinkedList class : 전체 list 구조 관리 --> head, tail, length\n",
    "    \n",
    "        - head : linked list 의 시작 node  \n",
    "        - tail : linked list 의 마지막 node  \n",
    "        - length : linkded list 의 길이\n",
    "\n",
    "- 다음의 method 들을 추가 \n",
    "\n",
    "    1) append method - list 에 새로운 node 추가\n",
    "    \n",
    "        - value 를 input 으로 받아 new node 를 생성  \n",
    "        - head 가 null 이면 첫번째 node 이므로 head 와 tail 에 모두 new node 를 assign 한다.\n",
    "        - head 가 null 이 아니면 현재의 tail 다음 (self.tail.next_node) 에 new node 를 assign 하고 현재의 tail 을 new node 로 update \n",
    "\n",
    "    2) pop method - list 의 마지막에서 node 제거 \n",
    "        - last node 의 이전 node 가 last 로 바뀌어야 하므로 tail 을 발견할 때까지 linked list 를 loop through 한다.\n",
    "        - tail 에 도달하면 tail node 의 이전 node 의 next_node 를 null 로 바꾸고 tail 을 새로운 tail node 로 update \n",
    "        - length = length - 1\n",
    "        - remove 된 node 의 value 를 return 한다\n",
    "    "
   ]
  },
  {
   "cell_type": "code",
   "execution_count": 77,
   "metadata": {},
   "outputs": [],
   "source": [
    "class Node:\n",
    "\n",
    "    def __init__(self, value):\n",
    "        self.value = value\n",
    "        self.next_node = None\n",
    "\n",
    "    def get_data(self):\n",
    "        return self.value\n",
    "\n",
    "    def get_next(self):\n",
    "        return self.next_node"
   ]
  },
  {
   "cell_type": "code",
   "execution_count": 92,
   "metadata": {},
   "outputs": [],
   "source": [
    "class LinkedList:\n",
    "    def __init__(self):\n",
    "        self.head = None\n",
    "        self.tail = None\n",
    "        self.length = 0\n",
    "        \n",
    "    def append(self, value):\n",
    "        newNode = Node(value)\n",
    "        \n",
    "        if self.head:\n",
    "            self.tail.next_node = newNode\n",
    "            self.tail = newNode\n",
    "        else:\n",
    "            self.head = self.tail = newNode\n",
    "            \n",
    "        self.length += 1\n",
    "        \n",
    "    def pop(self):\n",
    "        if not self.length:\n",
    "            return\n",
    "        current_node = self.head\n",
    "        new_tail = current_node\n",
    "        while (current_node.next_node):\n",
    "            new_tail = current_node\n",
    "            current_node = current_node.next_node\n",
    "        new_tail.next_node = None\n",
    "        self.tail = new_tail\n",
    "        if self.length == 0:\n",
    "            self.head = None\n",
    "            self.tail = None\n",
    "        return current_node.value\n",
    "    \n",
    "    def get_list(self):\n",
    "        return print(\"head node = {}, tail node= {}, length = {} \"\n",
    "                     .format(self.head.get_data(), self.tail.get_data(), self.length))"
   ]
  },
  {
   "cell_type": "code",
   "execution_count": 93,
   "metadata": {},
   "outputs": [
    {
     "name": "stdout",
     "output_type": "stream",
     "text": [
      "head node = 7, tail node= 7, length = 1 \n"
     ]
    }
   ],
   "source": [
    "lnk = LinkedList()\n",
    "lnk.append(7)\n",
    "lnk.get_list()\n"
   ]
  },
  {
   "cell_type": "code",
   "execution_count": 94,
   "metadata": {},
   "outputs": [],
   "source": [
    "lnk.append(9)"
   ]
  },
  {
   "cell_type": "code",
   "execution_count": 95,
   "metadata": {},
   "outputs": [
    {
     "data": {
      "text/plain": [
       "9"
      ]
     },
     "execution_count": 95,
     "metadata": {},
     "output_type": "execute_result"
    }
   ],
   "source": [
    "lnk.tail.get_data()"
   ]
  },
  {
   "cell_type": "code",
   "execution_count": 96,
   "metadata": {},
   "outputs": [
    {
     "name": "stdout",
     "output_type": "stream",
     "text": [
      "head node = 7, tail node= 9, length = 2 \n"
     ]
    }
   ],
   "source": [
    "lnk.get_list()\n"
   ]
  },
  {
   "cell_type": "code",
   "execution_count": 97,
   "metadata": {},
   "outputs": [
    {
     "data": {
      "text/plain": [
       "9"
      ]
     },
     "execution_count": 97,
     "metadata": {},
     "output_type": "execute_result"
    }
   ],
   "source": [
    "lnk.pop()"
   ]
  },
  {
   "cell_type": "code",
   "execution_count": 98,
   "metadata": {},
   "outputs": [
    {
     "name": "stdout",
     "output_type": "stream",
     "text": [
      "head node = 7, tail node= 7, length = 2 \n"
     ]
    }
   ],
   "source": [
    "lnk.get_list()"
   ]
  },
  {
   "cell_type": "code",
   "execution_count": null,
   "metadata": {},
   "outputs": [],
   "source": []
  }
 ],
 "metadata": {
  "kernelspec": {
   "display_name": "Python 3",
   "language": "python",
   "name": "python3"
  },
  "language_info": {
   "codemirror_mode": {
    "name": "ipython",
    "version": 3
   },
   "file_extension": ".py",
   "mimetype": "text/x-python",
   "name": "python",
   "nbconvert_exporter": "python",
   "pygments_lexer": "ipython3",
   "version": "3.7.2"
  }
 },
 "nbformat": 4,
 "nbformat_minor": 2
}
