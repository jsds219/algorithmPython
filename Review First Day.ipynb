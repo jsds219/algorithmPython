{
 "cells": [
  {
   "cell_type": "code",
   "execution_count": 1,
   "metadata": {},
   "outputs": [
    {
     "name": "stdout",
     "output_type": "stream",
     "text": [
      " \\n 은 줄을 \n",
      " 바꾼다\n"
     ]
    }
   ],
   "source": [
    "\"\"\"\n",
    "첫날 배운 내용을 복습 합니다.\n",
    "print, docstring, 사칙연산, 계산식 할당, value swapping, 지수표현, 나눗셈,\n",
    "augmented assignment, 기본 자료형, type conversion, eval() built-in 함수,  \n",
    "함수정의, scope of variable, *args, **kwargs, 각종 built-in 함수, \n",
    "list 와 tuple 다루는 법, list, tuple 의 indexing 및 slicing, list 와 tuple 의 sort 등을\n",
    "배웠습니다.\n",
    "\"\"\"\n",
    "\n",
    "# 다음을 jupyter notebook 에서 실행해 봅니다.\n",
    "\n",
    "print(\" \\\\n 은 줄을 \\n 바꾼다\")"
   ]
  },
  {
   "cell_type": "code",
   "execution_count": 2,
   "metadata": {},
   "outputs": [
    {
     "name": "stdout",
     "output_type": "stream",
     "text": [
      "7.5\n",
      "7\n",
      "1\n"
     ]
    }
   ],
   "source": [
    "num1 = 15\n",
    "num2 = 2\n",
    "\n",
    "print(num1 / num2)\n",
    "print(num1 // num2)\n",
    "print(num1 % num2)"
   ]
  },
  {
   "cell_type": "code",
   "execution_count": 3,
   "metadata": {},
   "outputs": [
    {
     "data": {
      "text/plain": [
       "True"
      ]
     },
     "execution_count": 3,
     "metadata": {},
     "output_type": "execute_result"
    }
   ],
   "source": [
    "(float(\"inf\") < 1e100) == False"
   ]
  },
  {
   "cell_type": "code",
   "execution_count": 4,
   "metadata": {},
   "outputs": [
    {
     "data": {
      "text/plain": [
       "True"
      ]
     },
     "execution_count": 4,
     "metadata": {},
     "output_type": "execute_result"
    }
   ],
   "source": [
    "a, b = 2, 4\n",
    "eval(\"1+2+3\") == eval(\"a + b\")"
   ]
  },
  {
   "cell_type": "code",
   "execution_count": 5,
   "metadata": {},
   "outputs": [
    {
     "name": "stdout",
     "output_type": "stream",
     "text": [
      "10 + 20 = 30\n",
      "10 - 20 = -10\n",
      "average =  15.0\n"
     ]
    }
   ],
   "source": [
    "x = 10\n",
    "y = 20\n",
    "\n",
    "def plus_minus_sum(m, n):\n",
    "    \n",
    "    x = m\n",
    "    y = n\n",
    "    \n",
    "    def plus(x, y):\n",
    "        return x+y\n",
    "    \n",
    "    def minus(x, y):\n",
    "        return x-y\n",
    "    \n",
    "    def sum(x, y):\n",
    "        return x+y\n",
    "    \n",
    "    return plus(x, y), minus(x, y), sum(x, y)\n",
    "\n",
    "u = plus_minus_sum(x, y)\n",
    "\n",
    "print(x, \"+\", y, \"=\", u[0])\n",
    "print(x, \"-\", y, \"=\", u[1])\n",
    "\n",
    "print(\"average = \", u[2] / 2)"
   ]
  },
  {
   "cell_type": "code",
   "execution_count": 6,
   "metadata": {},
   "outputs": [
    {
     "name": "stdout",
     "output_type": "stream",
     "text": [
      "http://google.com\n",
      "<class 'tuple'>\n",
      "('UPDATE', 'arg1', 'arg2')\n",
      "<class 'dict'>\n",
      "{'method': 'post', 'header': None}\n"
     ]
    }
   ],
   "source": [
    "def get_request(url, *args, **kwargs):\n",
    "    print(url)\n",
    "    \n",
    "    print(type(args))\n",
    "    print(args)\n",
    "    \n",
    "    print(type(kwargs))\n",
    "    print(kwargs)\n",
    "    \n",
    "get_request(\"http://google.com\", \"UPDATE\", \"arg1\", \"arg2\", method=\"post\", header=None)"
   ]
  },
  {
   "cell_type": "code",
   "execution_count": 7,
   "metadata": {},
   "outputs": [
    {
     "name": "stdout",
     "output_type": "stream",
     "text": [
      "[4, 3, 2, 1]\n",
      "5\n",
      "['a', 3, 4, 1, 2, [3, 4, 5]]\n"
     ]
    }
   ],
   "source": [
    "test_list1 = [\"a\"]\n",
    "\n",
    "test_list2 = [3, 4,  1, 2, [3, 4, 5]]\n",
    "\n",
    "test_list = test_list1 + test_list2\n",
    "\n",
    "print(sorted(test_list[1:-1], reverse=True))\n",
    "\n",
    "print(max(test_list[5]))\n",
    "\n",
    "print(test_list)"
   ]
  },
  {
   "cell_type": "code",
   "execution_count": 8,
   "metadata": {},
   "outputs": [
    {
     "data": {
      "text/plain": [
       "6"
      ]
     },
     "execution_count": 8,
     "metadata": {},
     "output_type": "execute_result"
    }
   ],
   "source": [
    "len(test_list)"
   ]
  },
  {
   "cell_type": "code",
   "execution_count": 9,
   "metadata": {},
   "outputs": [
    {
     "name": "stdout",
     "output_type": "stream",
     "text": [
      "['a', 3, 4, 1, 2, [3, 4, 5], 'x']\n"
     ]
    }
   ],
   "source": [
    "test_list.append(\"x\")\n",
    "print(test_list)"
   ]
  },
  {
   "cell_type": "code",
   "execution_count": 11,
   "metadata": {},
   "outputs": [
    {
     "name": "stdout",
     "output_type": "stream",
     "text": [
      "x\n",
      "[3, 4, 1, 2, [3, 4, 5]]\n"
     ]
    }
   ],
   "source": [
    "p = test_list.pop()\n",
    "print(p)\n",
    "print(test_list)"
   ]
  },
  {
   "cell_type": "code",
   "execution_count": 12,
   "metadata": {},
   "outputs": [
    {
     "data": {
      "text/plain": [
       "[3, 4, 5]"
      ]
     },
     "execution_count": 12,
     "metadata": {},
     "output_type": "execute_result"
    }
   ],
   "source": [
    "test_list[-1]"
   ]
  },
  {
   "cell_type": "code",
   "execution_count": 13,
   "metadata": {},
   "outputs": [
    {
     "data": {
      "text/plain": [
       "[[3, 4, 5], 2, 1, 4, 3]"
      ]
     },
     "execution_count": 13,
     "metadata": {},
     "output_type": "execute_result"
    }
   ],
   "source": [
    "test_list[::-1]"
   ]
  },
  {
   "cell_type": "code",
   "execution_count": 14,
   "metadata": {},
   "outputs": [
    {
     "data": {
      "text/plain": [
       "[3, 1, [3, 4, 5]]"
      ]
     },
     "execution_count": 14,
     "metadata": {},
     "output_type": "execute_result"
    }
   ],
   "source": [
    "test_list[::2]"
   ]
  },
  {
   "cell_type": "code",
   "execution_count": 15,
   "metadata": {},
   "outputs": [
    {
     "data": {
      "text/plain": [
       "[3, 4, 1, 2, [3, 4, 5]]"
      ]
     },
     "execution_count": 15,
     "metadata": {},
     "output_type": "execute_result"
    }
   ],
   "source": [
    "test_list[:]"
   ]
  },
  {
   "cell_type": "code",
   "execution_count": 16,
   "metadata": {},
   "outputs": [
    {
     "data": {
      "text/plain": [
       "5"
      ]
     },
     "execution_count": 16,
     "metadata": {},
     "output_type": "execute_result"
    }
   ],
   "source": [
    "test_list[4][-1]"
   ]
  },
  {
   "cell_type": "code",
   "execution_count": 17,
   "metadata": {},
   "outputs": [
    {
     "name": "stdout",
     "output_type": "stream",
     "text": [
      "([3, 4, 5], 2, 1, 4, 3)\n",
      "5\n",
      "(3, 4, 1, 2, [3, 4, 5])\n"
     ]
    }
   ],
   "source": [
    "test_tuple = tuple(test_list)\n",
    "\n",
    "print(test_tuple[::-1])\n",
    "print(test_tuple[4][-1])\n",
    "print(test_tuple)"
   ]
  },
  {
   "cell_type": "code",
   "execution_count": null,
   "metadata": {},
   "outputs": [],
   "source": []
  }
 ],
 "metadata": {
  "kernelspec": {
   "display_name": "Python 3",
   "language": "python",
   "name": "python3"
  },
  "language_info": {
   "codemirror_mode": {
    "name": "ipython",
    "version": 3
   },
   "file_extension": ".py",
   "mimetype": "text/x-python",
   "name": "python",
   "nbconvert_exporter": "python",
   "pygments_lexer": "ipython3",
   "version": "3.7.2"
  }
 },
 "nbformat": 4,
 "nbformat_minor": 2
}
